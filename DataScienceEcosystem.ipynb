{
 "cells": [
  {
   "cell_type": "markdown",
   "id": "327e1035-ead7-41ce-aeaf-d68865b2f20f",
   "metadata": {},
   "source": [
    "# Data Science Tools and Ecosystem\n"
   ]
  },
  {
   "cell_type": "markdown",
   "id": "0f47f62f-0f43-469f-b7e9-dc0b859f5f96",
   "metadata": {},
   "source": [
    "#### In this notebook, Data Science Tools and Ecosystem are summarized."
   ]
  },
  {
   "cell_type": "markdown",
   "id": "f9147283-bcc1-4305-8f45-bd1918f3e976",
   "metadata": {},
   "source": [
    "**Objectives:**\n",
    "\n",
    "- List popular languages for Data Science.\n",
    "- Identify commonly used libraries in Data Science.\n",
    "- Explore development environment open-source tools used in Data Science.\n",
    "- Understand how to convert units (e.g., minutes to hours) using Python.\n",
    "- Create and format tables in Jupyter Notebook using Markdown."
   ]
  },
  {
   "cell_type": "markdown",
   "id": "6252d538-9aae-4892-86f7-915f97d6f0a0",
   "metadata": {},
   "source": [
    "##### Some of the popular languages that Data Scientists use are:\n",
    "\n",
    "+ Python\n",
    "+ R\n",
    "+ SQL\n",
    "+ Julia\n",
    "+ Scala"
   ]
  },
  {
   "cell_type": "markdown",
   "id": "7cb0f217-133d-48ff-9802-564b38e96c8e",
   "metadata": {},
   "source": [
    "##### Some of the commonly used libraries by Data Scientists include:\n",
    "\n",
    "1. NumPy\n",
    "2. Pandas\n",
    "3. Matplotlib\n",
    "4. Scikit-learn\n",
    "5. TensorFlow"
   ]
  },
  {
   "cell_type": "markdown",
   "id": "c4fba2ca-aaf3-4e20-a2ad-5b45b2f82db9",
   "metadata": {},
   "source": [
    "##### Some of the commonly used development environment open-source tools in Data Science are:\n",
    "\n",
    "| Data Science Tools | \n",
    "| -------------| \n",
    "|  Jupyter Notebook  | \n",
    "| RStudio        |\n",
    "| Apache Zeppelin | "
   ]
  },
  {
   "cell_type": "markdown",
   "id": "affcf0cb-bcca-4577-abb2-19d3c98cab0c",
   "metadata": {},
   "source": [
    "### Below are a few examples of evaluating arithmetic expressions in Python"
   ]
  },
  {
   "cell_type": "code",
   "execution_count": 5,
   "id": "df5d2282-ecc1-4c9d-9b42-d7ee92153bd7",
   "metadata": {},
   "outputs": [
    {
     "data": {
      "text/plain": [
       "17"
      ]
     },
     "execution_count": 5,
     "metadata": {},
     "output_type": "execute_result"
    }
   ],
   "source": [
    "# This a simple arithmetic expression to mutiply then add integers\n",
    "\n",
    "(3*4)+5"
   ]
  },
  {
   "cell_type": "code",
   "execution_count": 6,
   "id": "63048f6f-3d01-4ea8-be3c-661131eb7695",
   "metadata": {},
   "outputs": [
    {
     "data": {
      "text/plain": [
       "3.3333333333333335"
      ]
     },
     "execution_count": 6,
     "metadata": {},
     "output_type": "execute_result"
    }
   ],
   "source": [
    "# This will convert 200 minutes to hours by diving by 60\n",
    "hours = 200 / 60\n",
    "hours"
   ]
  },
  {
   "cell_type": "code",
   "execution_count": null,
   "id": "6a8d0ace-385f-4dc3-8b7c-8757e0343416",
   "metadata": {},
   "outputs": [],
   "source": []
  },
  {
   "cell_type": "markdown",
   "id": "10ee4bcf-aac0-44cf-a00a-545a6fcb2a17",
   "metadata": {},
   "source": [
    "## Author\n",
    "Natalia Daza"
   ]
  },
  {
   "cell_type": "code",
   "execution_count": null,
   "id": "01cdc5a4-2643-4443-b7e1-13c39541a0f5",
   "metadata": {},
   "outputs": [],
   "source": []
  }
 ],
 "metadata": {
  "kernelspec": {
   "display_name": "Python 3 (ipykernel)",
   "language": "python",
   "name": "python3"
  },
  "language_info": {
   "codemirror_mode": {
    "name": "ipython",
    "version": 3
   },
   "file_extension": ".py",
   "mimetype": "text/x-python",
   "name": "python",
   "nbconvert_exporter": "python",
   "pygments_lexer": "ipython3",
   "version": "3.13.1"
  }
 },
 "nbformat": 4,
 "nbformat_minor": 5
}
